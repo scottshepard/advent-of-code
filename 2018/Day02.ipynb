{
 "cells": [
  {
   "cell_type": "markdown",
   "metadata": {},
   "source": [
    "## Part 1"
   ]
  },
  {
   "cell_type": "code",
   "execution_count": 1,
   "metadata": {},
   "outputs": [],
   "source": [
    "import pandas as pd"
   ]
  },
  {
   "cell_type": "code",
   "execution_count": 2,
   "metadata": {},
   "outputs": [],
   "source": [
    "f = open('inputs/day02.txt')\n",
    "data = f.read().split('\\n')\n",
    "data = [d for d in data if d != '']"
   ]
  },
  {
   "cell_type": "code",
   "execution_count": 3,
   "metadata": {},
   "outputs": [],
   "source": [
    "def any_char_exactly_twice(string):\n",
    "    s = pd.Series(list(string))\n",
    "    vc = s.value_counts()\n",
    "    return any(vc == 2)\n",
    "    \n",
    "def any_char_exactly_thrice(string):\n",
    "    s = pd.Series(list(string))\n",
    "    vc = s.value_counts()\n",
    "    return any(vc == 3)"
   ]
  },
  {
   "cell_type": "code",
   "execution_count": 4,
   "metadata": {},
   "outputs": [
    {
     "name": "stdout",
     "output_type": "stream",
     "text": [
      "8296\n"
     ]
    }
   ],
   "source": [
    "twice  = 0\n",
    "thrice = 0\n",
    "for line in data:\n",
    "    if line == '':\n",
    "        pass\n",
    "    if any_char_exactly_twice(line):\n",
    "        twice += 1\n",
    "    if any_char_exactly_thrice(line):\n",
    "        thrice += 1\n",
    "print(twice * thrice)"
   ]
  },
  {
   "cell_type": "markdown",
   "metadata": {},
   "source": [
    "## Part 2"
   ]
  },
  {
   "cell_type": "code",
   "execution_count": 5,
   "metadata": {},
   "outputs": [],
   "source": [
    "def compare_ids(id1, id2):\n",
    "    return sum(~(pd.Series(list(id1)) == pd.Series(list(id2))))"
   ]
  },
  {
   "cell_type": "code",
   "execution_count": 6,
   "metadata": {},
   "outputs": [
    {
     "name": "stdout",
     "output_type": "stream",
     "text": [
      "pazvmqbftrbeosiecxlghkwud\n"
     ]
    }
   ],
   "source": [
    "for i, d in enumerate(data):\n",
    "    for j, l in enumerate(data[i+1:-1]):\n",
    "        chars_off = compare_ids(d, l)\n",
    "        if chars_off == 1:\n",
    "            print(''.join([d1 for d1, d2 in zip(l, d) if d1==d2]))"
   ]
  }
 ],
 "metadata": {
  "kernelspec": {
   "display_name": "Python 3",
   "language": "python",
   "name": "python3"
  },
  "language_info": {
   "codemirror_mode": {
    "name": "ipython",
    "version": 3
   },
   "file_extension": ".py",
   "mimetype": "text/x-python",
   "name": "python",
   "nbconvert_exporter": "python",
   "pygments_lexer": "ipython3",
   "version": "3.6.3"
  }
 },
 "nbformat": 4,
 "nbformat_minor": 2
}
