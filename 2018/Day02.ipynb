{
 "cells": [
  {
   "cell_type": "markdown",
   "metadata": {},
   "source": [
    "## Part 1"
   ]
  },
  {
   "cell_type": "code",
   "execution_count": 24,
   "metadata": {},
   "outputs": [],
   "source": [
    "import pandas as pd"
   ]
  },
  {
   "cell_type": "code",
   "execution_count": 33,
   "metadata": {},
   "outputs": [],
   "source": [
    "f = open('inputs/day02.txt')\n",
    "data = f.read().split('\\n')"
   ]
  },
  {
   "cell_type": "code",
   "execution_count": 34,
   "metadata": {},
   "outputs": [],
   "source": [
    "def any_char_exactly_twice(string):\n",
    "    s = pd.Series(list(string))\n",
    "    vc = s.value_counts()\n",
    "    return any(vc == 2)\n",
    "    \n",
    "def any_char_exactly_thrice(string):\n",
    "    s = pd.Series(list(string))\n",
    "    vc = s.value_counts()\n",
    "    return any(vc == 3)"
   ]
  },
  {
   "cell_type": "code",
   "execution_count": 35,
   "metadata": {},
   "outputs": [
    {
     "name": "stdout",
     "output_type": "stream",
     "text": [
      "8296\n"
     ]
    }
   ],
   "source": [
    "twice  = 0\n",
    "thrice = 0\n",
    "for line in data:\n",
    "    if line == '':\n",
    "        pass\n",
    "    if any_char_exactly_twice(line):\n",
    "        twice += 1\n",
    "    if any_char_exactly_thrice(line):\n",
    "        thrice += 1\n",
    "print(twice * thrice)"
   ]
  },
  {
   "cell_type": "markdown",
   "metadata": {},
   "source": [
    "## Part 2"
   ]
  },
  {
   "cell_type": "code",
   "execution_count": null,
   "metadata": {},
   "outputs": [],
   "source": []
  }
 ],
 "metadata": {
  "kernelspec": {
   "display_name": "Python 3",
   "language": "python",
   "name": "python3"
  },
  "language_info": {
   "codemirror_mode": {
    "name": "ipython",
    "version": 3
   },
   "file_extension": ".py",
   "mimetype": "text/x-python",
   "name": "python",
   "nbconvert_exporter": "python",
   "pygments_lexer": "ipython3",
   "version": "3.6.3"
  }
 },
 "nbformat": 4,
 "nbformat_minor": 2
}
