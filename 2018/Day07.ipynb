{
 "cells": [
  {
   "cell_type": "code",
   "execution_count": 1,
   "metadata": {},
   "outputs": [],
   "source": [
    "import numpy as np\n",
    "import pandas as pd\n",
    "import collections\n",
    "\n",
    "import re"
   ]
  },
  {
   "cell_type": "code",
   "execution_count": 2,
   "metadata": {},
   "outputs": [],
   "source": [
    "f = open('inputs/day07.txt')\n",
    "data = f.read()"
   ]
  },
  {
   "cell_type": "code",
   "execution_count": 3,
   "metadata": {},
   "outputs": [],
   "source": [
    "def flatten(l):\n",
    "    for el in l:\n",
    "        if isinstance(el, collections.Iterable) and not isinstance(el, (str, bytes)):\n",
    "            yield from flatten(el)\n",
    "        else:\n",
    "            yield el\n",
    "\n",
    "class InstructionTree:\n",
    "    \n",
    "    def __init__(self, instructions):\n",
    "        self.data = data\n",
    "        self.node_names = list(pd.Series(list(flatten(re.findall('(?<= )[A-Z](?= )', data)))).sort_values().unique())\n",
    "        self.nodes = {}\n",
    "        for n in self.node_names:\n",
    "            self.nodes[n] = Node(n)\n",
    "        self.instructions = data.split('\\n')\n",
    "        self.completed = False\n",
    "        self.completed_nodes = []\n",
    "        self.next_available_nodes = []\n",
    "    \n",
    "    def parse_line(self, line):\n",
    "        names = re.findall('(?<= )[A-Z](?= )', line)    \n",
    "        return names[0], names[1]\n",
    "    \n",
    "    def build_tree(self):\n",
    "        for line in self.instructions:\n",
    "            n0, n1 = self.parse_line(line)\n",
    "            self.nodes[n0].add_child(self.nodes[n1])\n",
    "            self.nodes[n1].add_parent(self.nodes[n0])\n",
    "        for nm in self.node_names:\n",
    "            node = self.nodes[nm]\n",
    "            if not node.has_parent():\n",
    "                self.root = node\n",
    "                self.next_available_nodes.append(node)\n",
    "        self.next_available_nodes.sort()\n",
    "        self.current = self.next_available_nodes.pop(0)\n",
    "        \n",
    "    def completed_parents(self, node):\n",
    "        return all([parent in self.completed_nodes for parent in node.parents])\n",
    "            \n",
    "    def find_next_available_nodes(self, node):\n",
    "        next_list = []\n",
    "        # Determine next available nodes\n",
    "        # Check that the current node has children to add\n",
    "        if node.has_children():\n",
    "            # only add children if all of their parents have been completed\n",
    "            for child in node.children:\n",
    "                if self.completed_parents(child):\n",
    "                    next_list.append(child)\n",
    "        # resort the list\n",
    "        return next_list\n",
    "        \n",
    "    def move_to_next_node(self):\n",
    "        # Complete the current node\n",
    "        self.completed_nodes.append(self.current)\n",
    "\n",
    "        # Find next available nodes\n",
    "        self.next_available_nodes.append(self.find_next_available_nodes(self.current))\n",
    "        self.next_available_nodes = list(flatten(self.next_available_nodes))\n",
    "        self.next_available_nodes.sort()    \n",
    "        print(self.current, self.next_available_nodes)\n",
    "        # Change the current node to the next node\n",
    "        if len(self.next_available_nodes) > 0:\n",
    "            self.current = self.next_available_nodes.pop(0)\n",
    "        else:\n",
    "            self.completed = True\n",
    "        \n",
    "class Node:\n",
    "\n",
    "    def __init__(self, name):\n",
    "        self.name = name\n",
    "        self.parents = []\n",
    "        self.children = []\n",
    "    \n",
    "    def __repr__(self):\n",
    "        return self.name\n",
    "    \n",
    "    def __gt__(self, other):\n",
    "        self.name > other.name\n",
    "        \n",
    "    def __eq__(self, other):\n",
    "        return self.name == other.name\n",
    "\n",
    "    def __lt__(self, other):\n",
    "        return self.name < other.name\n",
    "    \n",
    "    def add_parent(self, parent):\n",
    "        self.parents.append(parent)\n",
    "        \n",
    "    def has_parent(self):\n",
    "        return len(self.parents) > 0\n",
    "        \n",
    "    def add_child(self, child):\n",
    "        self.children.append(child)\n",
    "        \n",
    "    def has_children(self):\n",
    "        return len(self.children) > 0"
   ]
  },
  {
   "cell_type": "code",
   "execution_count": 4,
   "metadata": {},
   "outputs": [],
   "source": [
    "tree = InstructionTree(data)\n",
    "tree.build_tree()"
   ]
  },
  {
   "cell_type": "code",
   "execution_count": 5,
   "metadata": {},
   "outputs": [
    {
     "name": "stdout",
     "output_type": "stream",
     "text": [
      "G [D, O, S, U, X]\n",
      "D [H, O, S, U, X]\n",
      "H [O, S, U, X]\n",
      "O [S, U, X]\n",
      "S [U, X]\n",
      "U [X]\n",
      "X [A]\n",
      "A [C, I, M, R]\n",
      "C [I, M, R, T]\n",
      "I [M, R, T, W]\n",
      "M [R, T, W]\n",
      "R [T, W]\n",
      "T [P, W]\n",
      "P [W]\n",
      "W [N, Y]\n",
      "N [Y]\n",
      "Y [J]\n",
      "J [L]\n",
      "L [E, Q]\n",
      "E [Q, V]\n",
      "Q [F, V]\n",
      "F [V]\n",
      "V [Z]\n",
      "Z [B]\n",
      "B [K]\n",
      "K []\n"
     ]
    },
    {
     "data": {
      "text/plain": [
       "'GDHOSUXACIMRTPWNYJLEQFVZBK'"
      ]
     },
     "execution_count": 5,
     "metadata": {},
     "output_type": "execute_result"
    }
   ],
   "source": [
    "while not tree.completed:\n",
    "    tree.move_to_next_node()\n",
    "''.join([n.name for n in tree.completed_nodes])"
   ]
  },
  {
   "cell_type": "code",
   "execution_count": null,
   "metadata": {},
   "outputs": [],
   "source": []
  }
 ],
 "metadata": {
  "kernelspec": {
   "display_name": "Python 3",
   "language": "python",
   "name": "python3"
  },
  "language_info": {
   "codemirror_mode": {
    "name": "ipython",
    "version": 3
   },
   "file_extension": ".py",
   "mimetype": "text/x-python",
   "name": "python",
   "nbconvert_exporter": "python",
   "pygments_lexer": "ipython3",
   "version": "3.6.7"
  },
  "toc": {
   "base_numbering": 1,
   "nav_menu": {},
   "number_sections": true,
   "sideBar": true,
   "skip_h1_title": false,
   "title_cell": "Table of Contents",
   "title_sidebar": "Contents",
   "toc_cell": false,
   "toc_position": {},
   "toc_section_display": true,
   "toc_window_display": false
  }
 },
 "nbformat": 4,
 "nbformat_minor": 2
}
