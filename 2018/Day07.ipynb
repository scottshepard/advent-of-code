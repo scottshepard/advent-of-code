{
 "cells": [
  {
   "cell_type": "code",
   "execution_count": 3,
   "metadata": {},
   "outputs": [],
   "source": [
    "import numpy as np\n",
    "import pandas as pd\n",
    "\n",
    "import re"
   ]
  },
  {
   "cell_type": "code",
   "execution_count": 4,
   "metadata": {},
   "outputs": [],
   "source": [
    "f = open('inputs/day07_test.txt')\n",
    "data = f.read()"
   ]
  },
  {
   "cell_type": "code",
   "execution_count": 23,
   "metadata": {},
   "outputs": [],
   "source": [
    "def flatten(list):\n",
    "    return [item for sublist in list for item in sublist]\n",
    "\n",
    "class InstructionTree:\n",
    "    \n",
    "    def __init__(self, instructions):\n",
    "        self.data = data\n",
    "        self.node_names = list(pd.Series(flatten(re.findall('(?<= )[A-Z](?= )', data))).unique())\n",
    "        self.nodes = {}\n",
    "        for n in self.node_names:\n",
    "            self.nodes[n] = Node(n)\n",
    "        self.instructions = data.split('\\n')\n",
    "    \n",
    "    def parse_line(self, line):\n",
    "        names = re.findall('(?<= )[A-Z](?= )', line)    \n",
    "        return names[0], names[1]\n",
    "    \n",
    "    def build_tree(self):\n",
    "        for line in self.instructions:\n",
    "            n0, n1 = self.parse_line(line)\n",
    "            self.nodes[n0].add_child(self.nodes[n1])\n",
    "            self.nodes[n1].add_parent(self.nodes[n0])\n",
    "        \n",
    "class Node:\n",
    "\n",
    "    def __init__(self, name):\n",
    "        self.name = name\n",
    "        self.parents = []\n",
    "        self.children = []\n",
    "    \n",
    "    def __repr__(self):\n",
    "        return self.name\n",
    "    \n",
    "    def add_parent(self, parent):\n",
    "        self.parents.append(parent)\n",
    "        \n",
    "    def add_child(self, child):\n",
    "        self.children.append(child)"
   ]
  },
  {
   "cell_type": "code",
   "execution_count": 24,
   "metadata": {},
   "outputs": [],
   "source": [
    "tree = InstructionTree(data)\n",
    "tree.build_tree()"
   ]
  },
  {
   "cell_type": "code",
   "execution_count": 31,
   "metadata": {},
   "outputs": [
    {
     "data": {
      "text/plain": [
       "'[C]'"
      ]
     },
     "execution_count": 31,
     "metadata": {},
     "output_type": "execute_result"
    }
   ],
   "source": [
    "str([tree.nodes['C']])"
   ]
  },
  {
   "cell_type": "code",
   "execution_count": 28,
   "metadata": {},
   "outputs": [
    {
     "data": {
      "text/plain": [
       "[A, F]"
      ]
     },
     "execution_count": 28,
     "metadata": {},
     "output_type": "execute_result"
    }
   ],
   "source": [
    "tree.nodes['C'].children"
   ]
  },
  {
   "cell_type": "code",
   "execution_count": null,
   "metadata": {},
   "outputs": [],
   "source": []
  }
 ],
 "metadata": {
  "kernelspec": {
   "display_name": "Python 3",
   "language": "python",
   "name": "python3"
  },
  "language_info": {
   "codemirror_mode": {
    "name": "ipython",
    "version": 3
   },
   "file_extension": ".py",
   "mimetype": "text/x-python",
   "name": "python",
   "nbconvert_exporter": "python",
   "pygments_lexer": "ipython3",
   "version": "3.6.7"
  }
 },
 "nbformat": 4,
 "nbformat_minor": 2
}
