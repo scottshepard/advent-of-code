{
 "cells": [
  {
   "cell_type": "code",
   "execution_count": 1,
   "metadata": {},
   "outputs": [],
   "source": [
    "import numpy as np\n",
    "import pandas as pd\n",
    "import collections\n",
    "from string import ascii_lowercase\n",
    "\n",
    "import re"
   ]
  },
  {
   "cell_type": "code",
   "execution_count": 2,
   "metadata": {},
   "outputs": [],
   "source": [
    "f = open('inputs/day07_test.txt')\n",
    "data = f.read()"
   ]
  },
  {
   "cell_type": "code",
   "execution_count": 35,
   "metadata": {},
   "outputs": [],
   "source": [
    "def flatten(l):\n",
    "    return list(flatten_generator(l))\n",
    "            \n",
    "def flatten_generator(l):\n",
    "    for el in l:\n",
    "        if isinstance(el, collections.Iterable) and not isinstance(el, (str, bytes)):\n",
    "            yield from flatten_generator(el)\n",
    "        else:\n",
    "            yield el\n",
    "\n",
    "class InstructionTree:\n",
    "    \n",
    "    def __init__(self, instructions, workers=1, base_seconds=60):\n",
    "        self.data = data\n",
    "        self.time = 0\n",
    "        self.workers = workers\n",
    "        self.node_names = list(pd.Series(flatten(re.findall('(?<= )[A-Z](?= )', data))).sort_values().unique())\n",
    "        self.nodes = {}\n",
    "        for n in self.node_names:\n",
    "            self.nodes[n] = Node(n, base_seconds)\n",
    "        self.instructions = data.split('\\n')\n",
    "        self.completed = False\n",
    "        self.completed_nodes = []\n",
    "        self.next_available_nodes = []\n",
    "        self.active_nodes = []\n",
    "    \n",
    "    def parse_line(self, line):\n",
    "        names = re.findall('(?<= )[A-Z](?= )', line)    \n",
    "        return names[0], names[1]\n",
    "    \n",
    "    def build_tree(self):\n",
    "        for line in self.instructions:\n",
    "            n0, n1 = self.parse_line(line)\n",
    "            self.nodes[n0].add_child(self.nodes[n1])\n",
    "            self.nodes[n1].add_parent(self.nodes[n0])\n",
    "        for nm in self.node_names:\n",
    "            node = self.nodes[nm]\n",
    "            if not node.has_parent():\n",
    "                self.next_available_nodes.append(node)\n",
    "        self.next_available_nodes.sort()\n",
    "        self.current = self.next_available_nodes.pop(0)\n",
    "        self.active_nodes.append(self.current)\n",
    "        \n",
    "    def completed_parents(self, node):\n",
    "        return all([parent in self.completed_nodes for parent in node.parents])\n",
    "            \n",
    "    def find_next_available_nodes(self, node):\n",
    "        next_list = []\n",
    "        # Determine next available nodes\n",
    "        # Check that the current node has children to add\n",
    "        if node.has_children():\n",
    "            # only add children if all of their parents have been completed\n",
    "            for child in node.children:\n",
    "                if self.completed_parents(child):\n",
    "                    next_list.append(child)\n",
    "        # resort the list\n",
    "        return next_list\n",
    "        \n",
    "    def part1_increment(self):\n",
    "        # Complete the current node\n",
    "        self.completed_nodes.append(self.current)\n",
    "\n",
    "        # Find next available nodes\n",
    "        self.next_available_nodes.append(self.find_next_available_nodes(self.current))\n",
    "        self.next_available_nodes = flatten(self.next_available_nodes)\n",
    "        self.next_available_nodes.sort()    \n",
    "        print(self.current, self.next_available_nodes)\n",
    "        \n",
    "        # Change the current node to the next node\n",
    "        if len(self.next_available_nodes) > 0:\n",
    "            self.current = self.next_available_nodes.pop(0)\n",
    "        else:\n",
    "            self.completed = True\n",
    "            \n",
    "    def part2_increment(self):\n",
    "        self.time += 1\n",
    "        for current in self.active_nodes:\n",
    "            current.increment(1)\n",
    "            if current.solved:\n",
    "                self.completed_nodes.append(current)\n",
    "                self.active_nodes.remove(current)\n",
    "        \n",
    "        for an in self.active_nodes:\n",
    "            self.next_available_nodes.append(self.find_next_available_nodes(an))\n",
    "        \n",
    "        self.next_available_nodes = self.format_available_nodes(self.next_available_nodes)\n",
    "            \n",
    "        while len(self.active_nodes) < self.workers:\n",
    "            x = self.next_available_nodes.pop(0)\n",
    "            self.active_nodes.append(x)\n",
    "            \n",
    "    def format_available_nodes(self, node_list):\n",
    "        node_list = list(set(flatten(node_list)))\n",
    "        node_list.sort()\n",
    "        return node_list\n",
    "        \n",
    "class Node:\n",
    "\n",
    "    def __init__(self, name, base_seconds=60):\n",
    "        self.name = name\n",
    "        self.parents = []\n",
    "        self.children = []\n",
    "        self.time = 0\n",
    "        self.time_to_solve = base_seconds+ascii_lowercase.upper().index(name)+1\n",
    "        self.solved = False\n",
    "    \n",
    "    def __repr__(self):\n",
    "        return self.name\n",
    "    \n",
    "    def __gt__(self, other):\n",
    "        self.name > other.name\n",
    "        \n",
    "    def __eq__(self, other):\n",
    "        return self.name == other.name\n",
    "\n",
    "    def __lt__(self, other):\n",
    "        return self.name < other.name\n",
    "    \n",
    "    def add_parent(self, parent):\n",
    "        self.parents.append(parent)\n",
    "        \n",
    "    def has_parent(self):\n",
    "        return len(self.parents) > 0\n",
    "        \n",
    "    def add_child(self, child):\n",
    "        self.children.append(child)\n",
    "        \n",
    "    def has_children(self):\n",
    "        return len(self.children) > 0\n",
    "    \n",
    "    def increment(self, seconds):\n",
    "        self.time += 1\n",
    "        if self.time >= self.time_to_solve:\n",
    "            self.solved = True\n",
    "        "
   ]
  },
  {
   "cell_type": "markdown",
   "metadata": {},
   "source": [
    "# Part 1"
   ]
  },
  {
   "cell_type": "code",
   "execution_count": 36,
   "metadata": {},
   "outputs": [],
   "source": [
    "tree = InstructionTree(data)\n",
    "tree.build_tree()"
   ]
  },
  {
   "cell_type": "code",
   "execution_count": 37,
   "metadata": {},
   "outputs": [
    {
     "name": "stdout",
     "output_type": "stream",
     "text": [
      "C [A, F]\n",
      "A [B, D, F]\n",
      "B [D, F]\n",
      "D [F]\n",
      "F [E]\n",
      "E []\n"
     ]
    },
    {
     "data": {
      "text/plain": [
       "'CABDFE'"
      ]
     },
     "execution_count": 37,
     "metadata": {},
     "output_type": "execute_result"
    }
   ],
   "source": [
    "while not tree.completed:\n",
    "    tree.part1_increment()\n",
    "''.join([n.name for n in tree.completed_nodes])"
   ]
  },
  {
   "cell_type": "markdown",
   "metadata": {},
   "source": [
    "# Part 2"
   ]
  },
  {
   "cell_type": "code",
   "execution_count": 44,
   "metadata": {},
   "outputs": [],
   "source": [
    "tree = InstructionTree(data, base_seconds=0)\n",
    "tree.build_tree()"
   ]
  },
  {
   "cell_type": "code",
   "execution_count": 57,
   "metadata": {},
   "outputs": [
    {
     "data": {
      "text/plain": [
       "3"
      ]
     },
     "execution_count": 57,
     "metadata": {},
     "output_type": "execute_result"
    }
   ],
   "source": [
    "tree.completed_nodes[0].time_to_solve"
   ]
  },
  {
   "cell_type": "code",
   "execution_count": 40,
   "metadata": {},
   "outputs": [],
   "source": [
    "tree.part2_increment()"
   ]
  },
  {
   "cell_type": "code",
   "execution_count": 41,
   "metadata": {},
   "outputs": [
    {
     "data": {
      "text/plain": [
       "[C]"
      ]
     },
     "execution_count": 41,
     "metadata": {},
     "output_type": "execute_result"
    }
   ],
   "source": [
    "tree.active_nodes"
   ]
  },
  {
   "cell_type": "code",
   "execution_count": 47,
   "metadata": {},
   "outputs": [
    {
     "ename": "IndexError",
     "evalue": "pop from empty list",
     "output_type": "error",
     "traceback": [
      "\u001b[0;31m---------------------------------------------------------------------------\u001b[0m",
      "\u001b[0;31mIndexError\u001b[0m                                Traceback (most recent call last)",
      "\u001b[0;32m<ipython-input-47-d1fa950c55e1>\u001b[0m in \u001b[0;36m<module>\u001b[0;34m\u001b[0m\n\u001b[0;32m----> 1\u001b[0;31m \u001b[0mtree\u001b[0m\u001b[0;34m.\u001b[0m\u001b[0mpart2_increment\u001b[0m\u001b[0;34m(\u001b[0m\u001b[0;34m)\u001b[0m\u001b[0;34m\u001b[0m\u001b[0;34m\u001b[0m\u001b[0m\n\u001b[0m\u001b[1;32m      2\u001b[0m \u001b[0mprint\u001b[0m\u001b[0;34m(\u001b[0m\u001b[0mtree\u001b[0m\u001b[0;34m.\u001b[0m\u001b[0mactive_nodes\u001b[0m\u001b[0;34m,\u001b[0m \u001b[0mtree\u001b[0m\u001b[0;34m.\u001b[0m\u001b[0mcompleted_nodes\u001b[0m\u001b[0;34m,\u001b[0m \u001b[0mtree\u001b[0m\u001b[0;34m.\u001b[0m\u001b[0mnext_available_nodes\u001b[0m\u001b[0;34m)\u001b[0m\u001b[0;34m\u001b[0m\u001b[0;34m\u001b[0m\u001b[0m\n",
      "\u001b[0;32m<ipython-input-35-cac0f5082cfc>\u001b[0m in \u001b[0;36mpart2_increment\u001b[0;34m(self)\u001b[0m\n\u001b[1;32m     87\u001b[0m \u001b[0;34m\u001b[0m\u001b[0m\n\u001b[1;32m     88\u001b[0m         \u001b[0;32mwhile\u001b[0m \u001b[0mlen\u001b[0m\u001b[0;34m(\u001b[0m\u001b[0mself\u001b[0m\u001b[0;34m.\u001b[0m\u001b[0mactive_nodes\u001b[0m\u001b[0;34m)\u001b[0m \u001b[0;34m<\u001b[0m \u001b[0mself\u001b[0m\u001b[0;34m.\u001b[0m\u001b[0mworkers\u001b[0m\u001b[0;34m:\u001b[0m\u001b[0;34m\u001b[0m\u001b[0;34m\u001b[0m\u001b[0m\n\u001b[0;32m---> 89\u001b[0;31m             \u001b[0mx\u001b[0m \u001b[0;34m=\u001b[0m \u001b[0mself\u001b[0m\u001b[0;34m.\u001b[0m\u001b[0mnext_available_nodes\u001b[0m\u001b[0;34m.\u001b[0m\u001b[0mpop\u001b[0m\u001b[0;34m(\u001b[0m\u001b[0;36m0\u001b[0m\u001b[0;34m)\u001b[0m\u001b[0;34m\u001b[0m\u001b[0;34m\u001b[0m\u001b[0m\n\u001b[0m\u001b[1;32m     90\u001b[0m             \u001b[0mself\u001b[0m\u001b[0;34m.\u001b[0m\u001b[0mactive_nodes\u001b[0m\u001b[0;34m.\u001b[0m\u001b[0mappend\u001b[0m\u001b[0;34m(\u001b[0m\u001b[0mx\u001b[0m\u001b[0;34m)\u001b[0m\u001b[0;34m\u001b[0m\u001b[0;34m\u001b[0m\u001b[0m\n\u001b[1;32m     91\u001b[0m \u001b[0;34m\u001b[0m\u001b[0m\n",
      "\u001b[0;31mIndexError\u001b[0m: pop from empty list"
     ]
    }
   ],
   "source": [
    "tree.part2_increment()\n",
    "print(tree.active_nodes, tree.completed_nodes, tree.next_available_nodes)"
   ]
  },
  {
   "cell_type": "code",
   "execution_count": 34,
   "metadata": {},
   "outputs": [
    {
     "ename": "AttributeError",
     "evalue": "'list' object has no attribute 'increment'",
     "output_type": "error",
     "traceback": [
      "\u001b[0;31m---------------------------------------------------------------------------\u001b[0m",
      "\u001b[0;31mAttributeError\u001b[0m                            Traceback (most recent call last)",
      "\u001b[0;32m<ipython-input-34-185cc21cf626>\u001b[0m in \u001b[0;36m<module>\u001b[0;34m\u001b[0m\n\u001b[1;32m      1\u001b[0m \u001b[0;32mwhile\u001b[0m \u001b[0;32mnot\u001b[0m \u001b[0mtree\u001b[0m\u001b[0;34m.\u001b[0m\u001b[0mcompleted\u001b[0m\u001b[0;34m:\u001b[0m\u001b[0;34m\u001b[0m\u001b[0;34m\u001b[0m\u001b[0m\n\u001b[0;32m----> 2\u001b[0;31m     \u001b[0mtree\u001b[0m\u001b[0;34m.\u001b[0m\u001b[0mpart2_increment\u001b[0m\u001b[0;34m(\u001b[0m\u001b[0;34m)\u001b[0m\u001b[0;34m\u001b[0m\u001b[0;34m\u001b[0m\u001b[0m\n\u001b[0m\u001b[1;32m      3\u001b[0m \u001b[0;34m''\u001b[0m\u001b[0;34m.\u001b[0m\u001b[0mjoin\u001b[0m\u001b[0;34m(\u001b[0m\u001b[0;34m[\u001b[0m\u001b[0mn\u001b[0m\u001b[0;34m.\u001b[0m\u001b[0mname\u001b[0m \u001b[0;32mfor\u001b[0m \u001b[0mn\u001b[0m \u001b[0;32min\u001b[0m \u001b[0mtree\u001b[0m\u001b[0;34m.\u001b[0m\u001b[0mcompleted_nodes\u001b[0m\u001b[0;34m]\u001b[0m\u001b[0;34m)\u001b[0m\u001b[0;34m\u001b[0m\u001b[0;34m\u001b[0m\u001b[0m\n",
      "\u001b[0;32m<ipython-input-26-4852e8bce94f>\u001b[0m in \u001b[0;36mpart2_increment\u001b[0;34m(self)\u001b[0m\n\u001b[1;32m     76\u001b[0m         \u001b[0mself\u001b[0m\u001b[0;34m.\u001b[0m\u001b[0mtime\u001b[0m \u001b[0;34m+=\u001b[0m \u001b[0;36m1\u001b[0m\u001b[0;34m\u001b[0m\u001b[0;34m\u001b[0m\u001b[0m\n\u001b[1;32m     77\u001b[0m         \u001b[0;32mfor\u001b[0m \u001b[0mcurrent\u001b[0m \u001b[0;32min\u001b[0m \u001b[0mself\u001b[0m\u001b[0;34m.\u001b[0m\u001b[0mactive_nodes\u001b[0m\u001b[0;34m:\u001b[0m\u001b[0;34m\u001b[0m\u001b[0;34m\u001b[0m\u001b[0m\n\u001b[0;32m---> 78\u001b[0;31m             \u001b[0mcurrent\u001b[0m\u001b[0;34m.\u001b[0m\u001b[0mincrement\u001b[0m\u001b[0;34m(\u001b[0m\u001b[0;36m1\u001b[0m\u001b[0;34m)\u001b[0m\u001b[0;34m\u001b[0m\u001b[0;34m\u001b[0m\u001b[0m\n\u001b[0m\u001b[1;32m     79\u001b[0m             \u001b[0;32mif\u001b[0m \u001b[0mcurrent\u001b[0m\u001b[0;34m.\u001b[0m\u001b[0msolved\u001b[0m\u001b[0;34m:\u001b[0m\u001b[0;34m\u001b[0m\u001b[0;34m\u001b[0m\u001b[0m\n\u001b[1;32m     80\u001b[0m                 \u001b[0mself\u001b[0m\u001b[0;34m.\u001b[0m\u001b[0mcompleted_nodes\u001b[0m\u001b[0;34m.\u001b[0m\u001b[0mappend\u001b[0m\u001b[0;34m(\u001b[0m\u001b[0mcurrent\u001b[0m\u001b[0;34m)\u001b[0m\u001b[0;34m\u001b[0m\u001b[0;34m\u001b[0m\u001b[0m\n",
      "\u001b[0;31mAttributeError\u001b[0m: 'list' object has no attribute 'increment'"
     ]
    }
   ],
   "source": [
    "while not tree.completed:\n",
    "    tree.part2_increment()\n",
    "''.join([n.name for n in tree.completed_nodes])"
   ]
  },
  {
   "cell_type": "code",
   "execution_count": 11,
   "metadata": {},
   "outputs": [
    {
     "data": {
      "text/plain": [
       "[]"
      ]
     },
     "execution_count": 11,
     "metadata": {},
     "output_type": "execute_result"
    }
   ],
   "source": [
    "tree.completed_nodes"
   ]
  },
  {
   "cell_type": "code",
   "execution_count": null,
   "metadata": {},
   "outputs": [],
   "source": []
  }
 ],
 "metadata": {
  "kernelspec": {
   "display_name": "Python 3",
   "language": "python",
   "name": "python3"
  },
  "language_info": {
   "codemirror_mode": {
    "name": "ipython",
    "version": 3
   },
   "file_extension": ".py",
   "mimetype": "text/x-python",
   "name": "python",
   "nbconvert_exporter": "python",
   "pygments_lexer": "ipython3",
   "version": "3.6.7"
  },
  "toc": {
   "base_numbering": 1,
   "nav_menu": {},
   "number_sections": true,
   "sideBar": true,
   "skip_h1_title": false,
   "title_cell": "Table of Contents",
   "title_sidebar": "Contents",
   "toc_cell": false,
   "toc_position": {},
   "toc_section_display": true,
   "toc_window_display": false
  }
 },
 "nbformat": 4,
 "nbformat_minor": 2
}
