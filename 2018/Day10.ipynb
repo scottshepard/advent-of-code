{
 "cells": [
  {
   "cell_type": "code",
   "execution_count": 102,
   "metadata": {},
   "outputs": [],
   "source": [
    "import numpy as np\n",
    "import pandas as pd\n",
    "\n",
    "import re\n",
    "\n",
    "from PIL import Image"
   ]
  },
  {
   "cell_type": "code",
   "execution_count": 103,
   "metadata": {},
   "outputs": [],
   "source": [
    "def read_input(filename):\n",
    "    with open(filename) as inp:\n",
    "        return inp.readlines()"
   ]
  },
  {
   "cell_type": "code",
   "execution_count": 104,
   "metadata": {},
   "outputs": [],
   "source": [
    "data = read_input('inputs/day10_test.txt')"
   ]
  },
  {
   "cell_type": "code",
   "execution_count": 56,
   "metadata": {},
   "outputs": [],
   "source": [
    "def parse_line(line):\n",
    "    return [int(i) for i in re.findall('-?[0-9]+', line)]\n",
    "\n",
    "def move(df, n):\n",
    "    for r in df.iterrows():\n",
    "        r[1]['X'] += r[1]['vx']*n\n",
    "        r[1]['Y'] += r[1]['vy']*n\n",
    "    return df"
   ]
  },
  {
   "cell_type": "code",
   "execution_count": 106,
   "metadata": {},
   "outputs": [
    {
     "data": {
      "text/plain": [
       "(16, 22)"
      ]
     },
     "execution_count": 106,
     "metadata": {},
     "output_type": "execute_result"
    }
   ],
   "source": [
    "df = pd.DataFrame([parse_line(d) for d in data], columns=['X', 'Y', 'vx', 'vy'])\n",
    "\n",
    "df['X'] = df.X + abs(min(df.X))\n",
    "df['Y'] = df.Y + abs(min(df.Y))\n",
    "\n",
    "dims = ((max(df.Y)+1, max(df.X)+1))\n",
    "dims"
   ]
  },
  {
   "cell_type": "code",
   "execution_count": 96,
   "metadata": {},
   "outputs": [
    {
     "data": {
      "text/plain": [
       "(60010, 60060)"
      ]
     },
     "execution_count": 96,
     "metadata": {},
     "output_type": "execute_result"
    }
   ],
   "source": [
    "df = move(df, 1000)\n",
    "dims = ((max(df.Y)+1, max(df.X)+1))\n",
    "dims"
   ]
  },
  {
   "cell_type": "code",
   "execution_count": 110,
   "metadata": {},
   "outputs": [
    {
     "data": {
      "text/plain": [
       "0     0\n",
       "1    -1\n",
       "2    -1\n",
       "3    -2\n",
       "4     0\n",
       "5    -2\n",
       "6    -1\n",
       "7     0\n",
       "8    -2\n",
       "9    -1\n",
       "10    0\n",
       "11    0\n",
       "12   -1\n",
       "13   -2\n",
       "14   -1\n",
       "15    0\n",
       "16   -2\n",
       "17    0\n",
       "18   -1\n",
       "19   -1\n",
       "20   -1\n",
       "21    0\n",
       "22    1\n",
       "23    1\n",
       "24   -2\n",
       "25   -1\n",
       "26    0\n",
       "27    0\n",
       "28   -2\n",
       "29   -2\n",
       "30   -1\n",
       "dtype: int64"
      ]
     },
     "execution_count": 110,
     "metadata": {},
     "output_type": "execute_result"
    }
   ],
   "source": []
  },
  {
   "cell_type": "code",
   "execution_count": 99,
   "metadata": {},
   "outputs": [],
   "source": [
    "g = np.zeros(dims, dtype=np.ubyte)\n",
    "for r in df.iterrows():\n",
    "    g[r[1]['Y']][r[1]['X']] = 255"
   ]
  },
  {
   "cell_type": "code",
   "execution_count": null,
   "metadata": {},
   "outputs": [],
   "source": [
    "render = Image.fromarray(g)\n",
    "render.resize([d*10 for d in dims[::-1]])"
   ]
  },
  {
   "cell_type": "code",
   "execution_count": null,
   "metadata": {},
   "outputs": [],
   "source": []
  }
 ],
 "metadata": {
  "kernelspec": {
   "display_name": "Python 3",
   "language": "python",
   "name": "python3"
  },
  "language_info": {
   "codemirror_mode": {
    "name": "ipython",
    "version": 3
   },
   "file_extension": ".py",
   "mimetype": "text/x-python",
   "name": "python",
   "nbconvert_exporter": "python",
   "pygments_lexer": "ipython3",
   "version": "3.6.7"
  },
  "toc": {
   "base_numbering": 1,
   "nav_menu": {},
   "number_sections": true,
   "sideBar": true,
   "skip_h1_title": false,
   "title_cell": "Table of Contents",
   "title_sidebar": "Contents",
   "toc_cell": false,
   "toc_position": {},
   "toc_section_display": true,
   "toc_window_display": false
  }
 },
 "nbformat": 4,
 "nbformat_minor": 2
}
