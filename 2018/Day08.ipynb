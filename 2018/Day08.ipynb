{
 "cells": [
  {
   "cell_type": "code",
   "execution_count": 1,
   "metadata": {},
   "outputs": [],
   "source": [
    "f = open('inputs/day08.txt')\n",
    "data = [int(e) for e in f.read().split(' ')]"
   ]
  },
  {
   "cell_type": "code",
   "execution_count": 34,
   "metadata": {},
   "outputs": [],
   "source": [
    "class Node:\n",
    "    def __init__(self, input):\n",
    "        self.raw = input\n",
    "        self.n_child_nodes = input[0]\n",
    "        self.n_metadata = input[1]\n",
    "        self.data = input[2:]\n",
    "        self.child_nodes = []\n",
    "    \n",
    "    def parse(self):\n",
    "        # Build the tree of nodes\n",
    "        if (self.n_child_nodes - len(self.child_nodes)) == 0:\n",
    "            self.metadata = self.data[:self.n_metadata]\n",
    "        else:\n",
    "            for i in range(self.n_child_nodes):\n",
    "                n = Node(self.data)\n",
    "                n.parse()\n",
    "                self.child_nodes.append(n)\n",
    "                self.data = self.data[n.length():]\n",
    "            self.parse()\n",
    "                \n",
    "    def length(self):\n",
    "        return 2 + self.n_metadata + sum([n.length() for n in self.child_nodes])\n",
    "    \n",
    "    def part1(self):\n",
    "        # sum metadata for the node, including metadata sums of all child nodes\n",
    "        return sum(self.metadata) + sum([n.part1() for n in self.child_nodes])\n",
    "    \n",
    "    def part2(self):\n",
    "        # if child nodes exits, metadata values become references to said child nodes\n",
    "        if self.n_child_nodes > 0:\n",
    "            total = 0\n",
    "            for e in self.metadata:\n",
    "                if e <= len(self.child_nodes):\n",
    "                    total += self.child_nodes[e-1].part2()\n",
    "            return total\n",
    "        else:\n",
    "            return sum(self.metadata)"
   ]
  },
  {
   "cell_type": "markdown",
   "metadata": {},
   "source": [
    "## Part I"
   ]
  },
  {
   "cell_type": "code",
   "execution_count": 35,
   "metadata": {},
   "outputs": [
    {
     "data": {
      "text/plain": [
       "38567"
      ]
     },
     "execution_count": 35,
     "metadata": {},
     "output_type": "execute_result"
    }
   ],
   "source": [
    "x = Node(data)\n",
    "x.parse()\n",
    "x.part1()"
   ]
  },
  {
   "cell_type": "markdown",
   "metadata": {},
   "source": [
    "## Part 2"
   ]
  },
  {
   "cell_type": "code",
   "execution_count": 36,
   "metadata": {},
   "outputs": [
    {
     "data": {
      "text/plain": [
       "24453"
      ]
     },
     "execution_count": 36,
     "metadata": {},
     "output_type": "execute_result"
    }
   ],
   "source": [
    "x.part2()"
   ]
  }
 ],
 "metadata": {
  "kernelspec": {
   "display_name": "Python 3",
   "language": "python",
   "name": "python3"
  },
  "language_info": {
   "codemirror_mode": {
    "name": "ipython",
    "version": 3
   },
   "file_extension": ".py",
   "mimetype": "text/x-python",
   "name": "python",
   "nbconvert_exporter": "python",
   "pygments_lexer": "ipython3",
   "version": "3.6.3"
  },
  "toc": {
   "base_numbering": 1,
   "nav_menu": {},
   "number_sections": true,
   "sideBar": true,
   "skip_h1_title": false,
   "title_cell": "Table of Contents",
   "title_sidebar": "Contents",
   "toc_cell": false,
   "toc_position": {},
   "toc_section_display": true,
   "toc_window_display": false
  }
 },
 "nbformat": 4,
 "nbformat_minor": 2
}
