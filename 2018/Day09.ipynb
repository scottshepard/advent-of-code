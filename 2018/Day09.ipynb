{
 "cells": [
  {
   "cell_type": "code",
   "execution_count": 46,
   "metadata": {},
   "outputs": [],
   "source": [
    "class Game:\n",
    "    \n",
    "    def __init__(self, n_players):\n",
    "        self.n_players = n_players\n",
    "        self.players = n_players * [0]\n",
    "        self.player_i = 0\n",
    "        self.marbles = [0]\n",
    "        self.marble_i = -1\n",
    "    \n",
    "    def play_turn(self, m):\n",
    "        if m > 0 and m % 23 == 0:\n",
    "            self.players[self.player_i % len(self.players)] += m\n",
    "            self.marble_i -= 7\n",
    "            if self.marble_i < 0:\n",
    "                self.marble_i += len(self.marbles)\n",
    "            self.players[self.player_i] += self.marbles.pop(self.marble_i)\n",
    "            if self.marble_i > len(self.marbles):\n",
    "                self.marble_i -= len(self.marbles) \n",
    "            self.player_i += 1\n",
    "            if self.player_i >= len(self.players):\n",
    "                self.player_i -= len(self.players)\n",
    "        else:\n",
    "            \n",
    "            self.insert_marble(m)\n",
    "\n",
    "    def insert_marble(self, m, mi=None):\n",
    "        if mi is None:\n",
    "            self.marble_i += 2\n",
    "        else:\n",
    "            self.marble_i = mi\n",
    "        if self.marble_i > len(self.marbles):\n",
    "            self.marble_i -= len(self.marbles)\n",
    "        self.marbles.insert(self.marble_i, m)\n",
    "        self.player_i += 1\n",
    "        if self.player_i >= len(self.players):\n",
    "            self.player_i -= len(self.players)"
   ]
  },
  {
   "cell_type": "code",
   "execution_count": 56,
   "metadata": {},
   "outputs": [
    {
     "data": {
      "text/plain": [
       "398730"
      ]
     },
     "execution_count": 56,
     "metadata": {},
     "output_type": "execute_result"
    }
   ],
   "source": [
    "n_players = 438\n",
    "last_marble = 71626\n",
    "\n",
    "g = Game(n_players)\n",
    "for i in range(1,last_marble+1):\n",
    "    g.play_turn(i)\n",
    "    #print(g.player_i, g.marble_i, i)\n",
    "max(g.players)"
   ]
  }
 ],
 "metadata": {
  "kernelspec": {
   "display_name": "Python 3",
   "language": "python",
   "name": "python3"
  },
  "language_info": {
   "codemirror_mode": {
    "name": "ipython",
    "version": 3
   },
   "file_extension": ".py",
   "mimetype": "text/x-python",
   "name": "python",
   "nbconvert_exporter": "python",
   "pygments_lexer": "ipython3",
   "version": "3.6.7"
  }
 },
 "nbformat": 4,
 "nbformat_minor": 2
}
