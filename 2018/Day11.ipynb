{
 "cells": [
  {
   "cell_type": "code",
   "execution_count": 1,
   "metadata": {},
   "outputs": [],
   "source": [
    "# Grid serial number is the puzzle input\n",
    "gsn_test = 18\n",
    "gsn_real = 8772"
   ]
  },
  {
   "cell_type": "code",
   "execution_count": 2,
   "metadata": {},
   "outputs": [],
   "source": [
    "import numpy as np\n",
    "import pandas as pd\n",
    "\n",
    "import seaborn as sns\n",
    "import matplotlib.pyplot as plt"
   ]
  },
  {
   "cell_type": "code",
   "execution_count": 3,
   "metadata": {},
   "outputs": [],
   "source": [
    "def hunreds_digit(number):\n",
    "    h = str(number)[-3] if number >= 100 else 0\n",
    "    return int(h)\n",
    "\n",
    "def power_level(x, y, gsn):\n",
    "    rack_id = (x)+10\n",
    "    pl = (rack_id * y + gsn) * rack_id\n",
    "    return hunreds_digit(pl)-5\n",
    "\n",
    "def power_square(grid, x, y, size=3):\n",
    "    return grid.loc[y:y+(size-1), x:x+(size-1)].sum().sum()\n",
    "\n",
    "def build_total_power_grid(grid, square_size):\n",
    "    dim = 300-square_size\n",
    "    grid_tp = pd.DataFrame(np.zeros((dim, dim)))\n",
    "    for i in range(dim):\n",
    "        for j in range(dim):\n",
    "            grid_tp.loc[j,i] = power_square(grid, j, i, square_size)\n",
    "    return grid_tp\n",
    "\n",
    "def max_coordinate_of_grid(grid):\n",
    "    jmax = grid.max().idxmax()\n",
    "    imax = grid.loc[:,jmax].idxmax()\n",
    "    return (imax+1, jmax+1, grid.loc[imax,jmax])"
   ]
  },
  {
   "cell_type": "code",
   "execution_count": 4,
   "metadata": {},
   "outputs": [],
   "source": [
    "# Build the grid\n",
    "g = pd.DataFrame(np.zeros((300,300)))\n",
    "for i in range(300):\n",
    "    for j in range(300):\n",
    "        g.loc[j,i] = power_level(i+1, j+1, gsn_real)"
   ]
  },
  {
   "cell_type": "markdown",
   "metadata": {},
   "source": [
    "## Part I\n",
    "\n",
    "Find the max with a power grid size of 3"
   ]
  },
  {
   "cell_type": "code",
   "execution_count": 5,
   "metadata": {},
   "outputs": [
    {
     "data": {
      "text/plain": [
       "(235, 31, 31.0)"
      ]
     },
     "execution_count": 5,
     "metadata": {},
     "output_type": "execute_result"
    }
   ],
   "source": [
    "grid_tp = build_total_power_grid(g, 3)\n",
    "max_coordinate_of_grid(grid_tp)"
   ]
  },
  {
   "cell_type": "markdown",
   "metadata": {},
   "source": [
    "## Part II\n",
    "\n",
    "Loop through all 300 potential grid sizes. Calculate max power grid for that size."
   ]
  },
  {
   "cell_type": "code",
   "execution_count": null,
   "metadata": {},
   "outputs": [],
   "source": [
    "maximums = {}\n",
    "for s in range(299):\n",
    "    grid_tp = build_total_power_grid(g, s+1)\n",
    "    x, y, m = max_coordinate_of_grid(grid_tp)\n",
    "    maximums[(x, y, s+1)] = m"
   ]
  },
  {
   "cell_type": "code",
   "execution_count": 17,
   "metadata": {},
   "outputs": [],
   "source": [
    "max_val = max(list(maximums.values()))"
   ]
  },
  {
   "cell_type": "code",
   "execution_count": 18,
   "metadata": {},
   "outputs": [
    {
     "name": "stdout",
     "output_type": "stream",
     "text": [
      "(241, 65, 10)\n"
     ]
    }
   ],
   "source": [
    "for k, v in maximums.items():\n",
    "    if v == max_val:\n",
    "        print(k)"
   ]
  }
 ],
 "metadata": {
  "kernelspec": {
   "display_name": "Python 3",
   "language": "python",
   "name": "python3"
  },
  "language_info": {
   "codemirror_mode": {
    "name": "ipython",
    "version": 3
   },
   "file_extension": ".py",
   "mimetype": "text/x-python",
   "name": "python",
   "nbconvert_exporter": "python",
   "pygments_lexer": "ipython3",
   "version": "3.6.7"
  },
  "toc": {
   "base_numbering": 1,
   "nav_menu": {},
   "number_sections": true,
   "sideBar": true,
   "skip_h1_title": false,
   "title_cell": "Table of Contents",
   "title_sidebar": "Contents",
   "toc_cell": false,
   "toc_position": {},
   "toc_section_display": true,
   "toc_window_display": false
  }
 },
 "nbformat": 4,
 "nbformat_minor": 2
}
