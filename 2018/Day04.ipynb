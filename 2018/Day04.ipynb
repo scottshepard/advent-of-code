{
 "cells": [
  {
   "cell_type": "code",
   "execution_count": 40,
   "metadata": {},
   "outputs": [],
   "source": [
    "import datetime as dt\n",
    "import pandas as pd"
   ]
  },
  {
   "cell_type": "code",
   "execution_count": 1,
   "metadata": {},
   "outputs": [],
   "source": [
    "f = open('inputs/day04_test.txt')\n",
    "data = f.read().split('\\n')"
   ]
  },
  {
   "cell_type": "code",
   "execution_count": 2,
   "metadata": {},
   "outputs": [
    {
     "data": {
      "text/plain": [
       "['[1518-11-01 00:00] Guard #10 begins shift',\n",
       " '[1518-11-01 00:05] falls asleep',\n",
       " '[1518-11-01 00:25] wakes up',\n",
       " '[1518-11-01 00:30] falls asleep',\n",
       " '[1518-11-01 00:55] wakes up',\n",
       " '[1518-11-01 23:58] Guard #99 begins shift',\n",
       " '[1518-11-02 00:40] falls asleep',\n",
       " '[1518-11-02 00:50] wakes up',\n",
       " '[1518-11-03 00:05] Guard #10 begins shift',\n",
       " '[1518-11-03 00:24] falls asleep',\n",
       " '[1518-11-03 00:29] wakes up',\n",
       " '[1518-11-04 00:02] Guard #99 begins shift',\n",
       " '[1518-11-04 00:36] falls asleep',\n",
       " '[1518-11-04 00:46] wakes up',\n",
       " '[1518-11-05 00:03] Guard #99 begins shift',\n",
       " '[1518-11-05 00:45] falls asleep',\n",
       " '[1518-11-05 00:55] wakes up']"
      ]
     },
     "execution_count": 2,
     "metadata": {},
     "output_type": "execute_result"
    }
   ],
   "source": [
    "data"
   ]
  },
  {
   "cell_type": "code",
   "execution_count": 11,
   "metadata": {},
   "outputs": [
    {
     "data": {
      "text/plain": [
       "['1518-11-01 00:00', ' Guard #10 begins shift']"
      ]
     },
     "execution_count": 11,
     "metadata": {},
     "output_type": "execute_result"
    }
   ],
   "source": [
    "line = data[0]\n",
    "line = line.split(']')\n",
    "line[0] = line[0].replace('[', '')\n",
    "line[1]\n",
    "line"
   ]
  },
  {
   "cell_type": "code",
   "execution_count": 14,
   "metadata": {},
   "outputs": [],
   "source": [
    "df = pd.DataFrame()"
   ]
  },
  {
   "cell_type": "code",
   "execution_count": 15,
   "metadata": {},
   "outputs": [
    {
     "data": {
      "text/html": [
       "<div>\n",
       "<style scoped>\n",
       "    .dataframe tbody tr th:only-of-type {\n",
       "        vertical-align: middle;\n",
       "    }\n",
       "\n",
       "    .dataframe tbody tr th {\n",
       "        vertical-align: top;\n",
       "    }\n",
       "\n",
       "    .dataframe thead th {\n",
       "        text-align: right;\n",
       "    }\n",
       "</style>\n",
       "<table border=\"1\" class=\"dataframe\">\n",
       "  <thead>\n",
       "    <tr style=\"text-align: right;\">\n",
       "      <th></th>\n",
       "      <th>0</th>\n",
       "    </tr>\n",
       "  </thead>\n",
       "  <tbody>\n",
       "    <tr>\n",
       "      <th>0</th>\n",
       "      <td>1518-11-01 00:00</td>\n",
       "    </tr>\n",
       "    <tr>\n",
       "      <th>1</th>\n",
       "      <td>Guard #10 begins shift</td>\n",
       "    </tr>\n",
       "  </tbody>\n",
       "</table>\n",
       "</div>"
      ],
      "text/plain": [
       "                         0\n",
       "0         1518-11-01 00:00\n",
       "1   Guard #10 begins shift"
      ]
     },
     "execution_count": 15,
     "metadata": {},
     "output_type": "execute_result"
    }
   ],
   "source": [
    "df.append(line)"
   ]
  },
  {
   "cell_type": "code",
   "execution_count": 23,
   "metadata": {},
   "outputs": [],
   "source": [
    "def parse_line(line):\n",
    "    line = line.split(']')\n",
    "    line[0] = line[0].replace('[', '')\n",
    "    return line"
   ]
  },
  {
   "cell_type": "code",
   "execution_count": 49,
   "metadata": {},
   "outputs": [],
   "source": [
    "lines = [parse_line(d) for d in data]\n",
    "df = pd.DataFrame(lines, columns=['occurred_at', 'instruction'])"
   ]
  },
  {
   "cell_type": "code",
   "execution_count": 50,
   "metadata": {},
   "outputs": [],
   "source": [
    "df['occurred_at'] = pd.Series([dt.datetime.strptime(x, '%Y-%m-%d %H:%M') for x in df.occurred_at])"
   ]
  },
  {
   "cell_type": "code",
   "execution_count": 52,
   "metadata": {},
   "outputs": [
    {
     "data": {
      "text/html": [
       "<div>\n",
       "<style scoped>\n",
       "    .dataframe tbody tr th:only-of-type {\n",
       "        vertical-align: middle;\n",
       "    }\n",
       "\n",
       "    .dataframe tbody tr th {\n",
       "        vertical-align: top;\n",
       "    }\n",
       "\n",
       "    .dataframe thead th {\n",
       "        text-align: right;\n",
       "    }\n",
       "</style>\n",
       "<table border=\"1\" class=\"dataframe\">\n",
       "  <thead>\n",
       "    <tr style=\"text-align: right;\">\n",
       "      <th></th>\n",
       "      <th>occurred_at</th>\n",
       "      <th>insruction</th>\n",
       "    </tr>\n",
       "  </thead>\n",
       "  <tbody>\n",
       "    <tr>\n",
       "      <th>0</th>\n",
       "      <td>1518-11-01 00:00:00</td>\n",
       "      <td>Guard #10 begins shift</td>\n",
       "    </tr>\n",
       "    <tr>\n",
       "      <th>1</th>\n",
       "      <td>1518-11-01 00:05:00</td>\n",
       "      <td>falls asleep</td>\n",
       "    </tr>\n",
       "    <tr>\n",
       "      <th>2</th>\n",
       "      <td>1518-11-01 00:25:00</td>\n",
       "      <td>wakes up</td>\n",
       "    </tr>\n",
       "    <tr>\n",
       "      <th>3</th>\n",
       "      <td>1518-11-01 00:30:00</td>\n",
       "      <td>falls asleep</td>\n",
       "    </tr>\n",
       "    <tr>\n",
       "      <th>4</th>\n",
       "      <td>1518-11-01 00:55:00</td>\n",
       "      <td>wakes up</td>\n",
       "    </tr>\n",
       "    <tr>\n",
       "      <th>5</th>\n",
       "      <td>1518-11-01 23:58:00</td>\n",
       "      <td>Guard #99 begins shift</td>\n",
       "    </tr>\n",
       "    <tr>\n",
       "      <th>6</th>\n",
       "      <td>1518-11-02 00:40:00</td>\n",
       "      <td>falls asleep</td>\n",
       "    </tr>\n",
       "    <tr>\n",
       "      <th>7</th>\n",
       "      <td>1518-11-02 00:50:00</td>\n",
       "      <td>wakes up</td>\n",
       "    </tr>\n",
       "    <tr>\n",
       "      <th>8</th>\n",
       "      <td>1518-11-03 00:05:00</td>\n",
       "      <td>Guard #10 begins shift</td>\n",
       "    </tr>\n",
       "    <tr>\n",
       "      <th>9</th>\n",
       "      <td>1518-11-03 00:24:00</td>\n",
       "      <td>falls asleep</td>\n",
       "    </tr>\n",
       "    <tr>\n",
       "      <th>10</th>\n",
       "      <td>1518-11-03 00:29:00</td>\n",
       "      <td>wakes up</td>\n",
       "    </tr>\n",
       "    <tr>\n",
       "      <th>11</th>\n",
       "      <td>1518-11-04 00:02:00</td>\n",
       "      <td>Guard #99 begins shift</td>\n",
       "    </tr>\n",
       "    <tr>\n",
       "      <th>12</th>\n",
       "      <td>1518-11-04 00:36:00</td>\n",
       "      <td>falls asleep</td>\n",
       "    </tr>\n",
       "    <tr>\n",
       "      <th>13</th>\n",
       "      <td>1518-11-04 00:46:00</td>\n",
       "      <td>wakes up</td>\n",
       "    </tr>\n",
       "    <tr>\n",
       "      <th>14</th>\n",
       "      <td>1518-11-05 00:03:00</td>\n",
       "      <td>Guard #99 begins shift</td>\n",
       "    </tr>\n",
       "    <tr>\n",
       "      <th>15</th>\n",
       "      <td>1518-11-05 00:45:00</td>\n",
       "      <td>falls asleep</td>\n",
       "    </tr>\n",
       "    <tr>\n",
       "      <th>16</th>\n",
       "      <td>1518-11-05 00:55:00</td>\n",
       "      <td>wakes up</td>\n",
       "    </tr>\n",
       "  </tbody>\n",
       "</table>\n",
       "</div>"
      ],
      "text/plain": [
       "            occurred_at               insruction\n",
       "0   1518-11-01 00:00:00   Guard #10 begins shift\n",
       "1   1518-11-01 00:05:00             falls asleep\n",
       "2   1518-11-01 00:25:00                 wakes up\n",
       "3   1518-11-01 00:30:00             falls asleep\n",
       "4   1518-11-01 00:55:00                 wakes up\n",
       "5   1518-11-01 23:58:00   Guard #99 begins shift\n",
       "6   1518-11-02 00:40:00             falls asleep\n",
       "7   1518-11-02 00:50:00                 wakes up\n",
       "8   1518-11-03 00:05:00   Guard #10 begins shift\n",
       "9   1518-11-03 00:24:00             falls asleep\n",
       "10  1518-11-03 00:29:00                 wakes up\n",
       "11  1518-11-04 00:02:00   Guard #99 begins shift\n",
       "12  1518-11-04 00:36:00             falls asleep\n",
       "13  1518-11-04 00:46:00                 wakes up\n",
       "14  1518-11-05 00:03:00   Guard #99 begins shift\n",
       "15  1518-11-05 00:45:00             falls asleep\n",
       "16  1518-11-05 00:55:00                 wakes up"
      ]
     },
     "execution_count": 52,
     "metadata": {},
     "output_type": "execute_result"
    }
   ],
   "source": [
    "df.sort_values('occurred_at')"
   ]
  },
  {
   "cell_type": "code",
   "execution_count": null,
   "metadata": {},
   "outputs": [],
   "source": []
  }
 ],
 "metadata": {
  "kernelspec": {
   "display_name": "Python 3",
   "language": "python",
   "name": "python3"
  },
  "language_info": {
   "codemirror_mode": {
    "name": "ipython",
    "version": 3
   },
   "file_extension": ".py",
   "mimetype": "text/x-python",
   "name": "python",
   "nbconvert_exporter": "python",
   "pygments_lexer": "ipython3",
   "version": "3.6.3"
  },
  "toc": {
   "base_numbering": 1,
   "nav_menu": {},
   "number_sections": true,
   "sideBar": true,
   "skip_h1_title": false,
   "title_cell": "Table of Contents",
   "title_sidebar": "Contents",
   "toc_cell": false,
   "toc_position": {},
   "toc_section_display": true,
   "toc_window_display": false
  }
 },
 "nbformat": 4,
 "nbformat_minor": 2
}
